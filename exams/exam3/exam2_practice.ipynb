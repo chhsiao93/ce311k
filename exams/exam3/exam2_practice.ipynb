{
 "cells": [
  {
   "cell_type": "markdown",
   "metadata": {},
   "source": [
    "# CE 311K\n",
    "## Exam 2: Practice questions"
   ]
  },
  {
   "cell_type": "markdown",
   "metadata": {},
   "source": [
    "### 1. What is the output of the code below?"
   ]
  },
  {
   "cell_type": "code",
   "execution_count": 4,
   "metadata": {},
   "outputs": [
    {
     "name": "stdout",
     "output_type": "stream",
     "text": [
      "25\n"
     ]
    }
   ],
   "source": [
    "def add(x, y):\n",
    "    return x+y\n",
    "\n",
    "def mult(x, y):\n",
    "    return x*y\n",
    "\n",
    "print(mult(add(2,3),5))"
   ]
  },
  {
   "cell_type": "markdown",
   "metadata": {},
   "source": [
    "- [ ] $30$\n",
    "- [ ] $20$\n",
    "- [ ] $25$\n",
    "- [ ] $5$\n",
    "- [ ] Error"
   ]
  },
  {
   "cell_type": "markdown",
   "metadata": {},
   "source": [
    "### 2. Functions as Arguments\n",
    "\n",
    "What does the code below print?"
   ]
  },
  {
   "cell_type": "code",
   "execution_count": 5,
   "metadata": {},
   "outputs": [
    {
     "name": "stdout",
     "output_type": "stream",
     "text": [
      "16\n"
     ]
    }
   ],
   "source": [
    "def sq(func, x):\n",
    "    y = x**2\n",
    "    return func(y)\n",
    "\n",
    "def f(x):\n",
    "    return x**2\n",
    "\n",
    "calc = sq(f, 2)\n",
    "print(calc)"
   ]
  },
  {
   "cell_type": "markdown",
   "metadata": {},
   "source": [
    "### 3. Data structures: Identify the output of the following code\n",
    "\n",
    "Change it to a tuple and explain how the results will change."
   ]
  },
  {
   "cell_type": "code",
   "execution_count": 8,
   "metadata": {},
   "outputs": [
    {
     "name": "stdout",
     "output_type": "stream",
     "text": [
      "['Sarah', 'Ken', 'Jane']\n"
     ]
    }
   ],
   "source": [
    "list = [\"Sarah\", \"Joe\", \"Jane\"]\n",
    "list[1] = \"Ken\"\n",
    "print(list)"
   ]
  },
  {
   "cell_type": "markdown",
   "metadata": {},
   "source": [
    "### 4. Tuples\n",
    "\n",
    "Examine the code below. What does `always_sunny(('cloudy'), ('cold',))` evaluate to? Please pay close attention to initialization of a tuple using `,` operator."
   ]
  },
  {
   "cell_type": "code",
   "execution_count": 3,
   "metadata": {},
   "outputs": [
    {
     "name": "stdout",
     "output_type": "stream",
     "text": [
      "c cold\n",
      "('sunny', 'ccold')\n"
     ]
    }
   ],
   "source": [
    "def always_sunny(t1, t2):\n",
    "    \"\"\" t1, t2 are non empty \"\"\"\n",
    "    sun = (\"sunny\",\"sun\")\n",
    "    first = t1[0] + t2[0]\n",
    "    print(t1[0], t2[0])\n",
    "    return (sun[0], first)\n",
    "\n",
    "print(always_sunny(('cloudy'), ('cold',)))"
   ]
  },
  {
   "cell_type": "markdown",
   "metadata": {},
   "source": [
    "### 5. List Operations\n",
    "\n",
    "What is the value of `L3` after you execute all the operations in the code below?"
   ]
  },
  {
   "cell_type": "code",
   "execution_count": 19,
   "metadata": {},
   "outputs": [
    {
     "name": "stdout",
     "output_type": "stream",
     "text": [
      "['mi', 're', ['fa', 'la']]\n"
     ]
    }
   ],
   "source": [
    "L1 = ['re']\n",
    "L2 = ['mi']\n",
    "L3 = ['do']\n",
    "L4 = L1 + L2\n",
    "L3 = L3 + L4\n",
    "L3.sort()\n",
    "L3.pop(0)\n",
    "L3.append(['fa','la'])\n",
    "print(L3)"
   ]
  },
  {
   "cell_type": "markdown",
   "metadata": {},
   "source": [
    "- [ ] ['mi', 're', ['fa', 'la']]\n",
    "- [ ] ['mi', 're', 'fa', 'la']\n",
    "- [ ] ['re', 'mi', ['fa', 'la']]\n",
    "- [ ] ['do', 'mi', ['fa', 'la']]"
   ]
  },
  {
   "cell_type": "markdown",
   "metadata": {},
   "source": [
    "### 6. List Aliasing/Mutation\n",
    "\n",
    "What is the value of brunch after you execute all the operations in the code below?"
   ]
  },
  {
   "cell_type": "code",
   "execution_count": 1,
   "metadata": {},
   "outputs": [
    {
     "name": "stdout",
     "output_type": "stream",
     "text": [
      "['bacon', 'eggs', 'juice', 'toast', 'jam']\n"
     ]
    }
   ],
   "source": [
    "L1 = [\"bacon\", \"eggs\"]\n",
    "L2 = [\"toast\", \"jam\"]\n",
    "brunch = L1\n",
    "L1.append(\"juice\")\n",
    "brunch.extend(L2)\n",
    "print(brunch)"
   ]
  },
  {
   "cell_type": "markdown",
   "metadata": {},
   "source": [
    "- [ ] ['bacon', 'eggs', 'toast', 'jam']\n",
    "- [ ] ['bacon', 'eggs', 'juice', 'toast', 'jam']\n",
    "- [ ] ['bacon', 'eggs', 'juice', ['toast', 'jam']]\n",
    "- [ ] ['bacon', 'eggs', ['toast', 'jam']]\n"
   ]
  },
  {
   "cell_type": "markdown",
   "metadata": {},
   "source": [
    "### 7. Casting: What are the output of the following?"
   ]
  },
  {
   "cell_type": "code",
   "execution_count": null,
   "metadata": {},
   "outputs": [],
   "source": [
    "a = \"5.3\"\n",
    "print(int(a))"
   ]
  },
  {
   "cell_type": "code",
   "execution_count": 20,
   "metadata": {},
   "outputs": [
    {
     "name": "stdout",
     "output_type": "stream",
     "text": [
      "<class 'float'>\n"
     ]
    }
   ],
   "source": [
    "print(type(float(4//2)))"
   ]
  },
  {
   "cell_type": "markdown",
   "metadata": {},
   "source": [
    "### 8. Black Box and Glass Box Testing\n",
    "\n",
    "Is the below implementation correct, for the following values of `n = 4`, `n = -4` and `n = 5`? Fix any errors\n"
   ]
  },
  {
   "cell_type": "code",
   "execution_count": 21,
   "metadata": {},
   "outputs": [],
   "source": [
    "def is_even(n):\n",
    "    \"\"\" \n",
    "    Returns True if a number is even\n",
    "    and False if not \n",
    "    \"\"\"\n",
    "    if n > 0 and n % 2 == 0:\n",
    "        return True\n",
    "    elif n < 0 and n % 2 == 0:\n",
    "        return True\n",
    "    else: \n",
    "        return False\n"
   ]
  },
  {
   "cell_type": "markdown",
   "metadata": {},
   "source": [
    "### 9. Function scoping\n",
    "\n",
    "What is the value of `a` at the end of the Python code?"
   ]
  },
  {
   "cell_type": "code",
   "execution_count": 7,
   "metadata": {},
   "outputs": [
    {
     "name": "stdout",
     "output_type": "stream",
     "text": [
      "5\n"
     ]
    }
   ],
   "source": [
    "a = 5\n",
    "\n",
    "def function():\n",
    "    a = 3\n",
    "    return a\n",
    "\n",
    "function()\n",
    "\n",
    "# What is the value of a\n",
    "print(a)"
   ]
  },
  {
   "cell_type": "markdown",
   "metadata": {},
   "source": [
    "### 10. Taylor Series\n",
    "\n",
    "Develop a Python code to solve for an approximate value of $x \\sin(x)$ near $x = 0$ to a tolerance of 1e-6"
   ]
  },
  {
   "cell_type": "markdown",
   "metadata": {},
   "source": [
    "### 11. List comprehension\n",
    "\n",
    "Using list comprehension, create a list of numbers using `range(10)`, which are not divisible by 3."
   ]
  },
  {
   "cell_type": "code",
   "execution_count": 11,
   "metadata": {},
   "outputs": [
    {
     "name": "stdout",
     "output_type": "stream",
     "text": [
      "[1, 2, 4, 5, 7, 8]\n"
     ]
    }
   ],
   "source": [
    "ln3 = [x for x in range(10) if x%3 != 0]\n",
    "print(ln3)"
   ]
  }
 ],
 "metadata": {
  "kernelspec": {
   "display_name": "Python 3",
   "language": "python",
   "name": "python3"
  },
  "language_info": {
   "codemirror_mode": {
    "name": "ipython",
    "version": 3
   },
   "file_extension": ".py",
   "mimetype": "text/x-python",
   "name": "python",
   "nbconvert_exporter": "python",
   "pygments_lexer": "ipython3",
   "version": "3.7.5"
  }
 },
 "nbformat": 4,
 "nbformat_minor": 2
}
