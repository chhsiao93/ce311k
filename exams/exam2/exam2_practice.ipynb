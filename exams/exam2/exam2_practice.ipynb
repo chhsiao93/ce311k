{
 "cells": [
  {
   "cell_type": "markdown",
   "metadata": {},
   "source": [
    "# CE 311K\n",
    "## Exam 2: Practice questions"
   ]
  },
  {
   "cell_type": "markdown",
   "metadata": {},
   "source": [
    "### 1. What is the output of the code below?"
   ]
  },
  {
   "cell_type": "code",
   "execution_count": 4,
   "metadata": {},
   "outputs": [
    {
     "name": "stdout",
     "output_type": "stream",
     "text": [
      "25\n"
     ]
    }
   ],
   "source": [
    "def add(x, y):\n",
    "    return x+y\n",
    "\n",
    "def mult(x, y):\n",
    "    return x*y\n",
    "\n",
    "print(mult(add(2,3),5))"
   ]
  },
  {
   "cell_type": "markdown",
   "metadata": {},
   "source": [
    "- [ ] $30$\n",
    "- [ ] $20$\n",
    "- [ ] $25$\n",
    "- [ ] $5$\n",
    "- [ ] Error"
   ]
  },
  {
   "cell_type": "markdown",
   "metadata": {},
   "source": [
    "### 2. Functions as Arguments\n",
    "\n",
    "What does the code below print?"
   ]
  },
  {
   "cell_type": "code",
   "execution_count": 5,
   "metadata": {},
   "outputs": [
    {
     "name": "stdout",
     "output_type": "stream",
     "text": [
      "16\n"
     ]
    }
   ],
   "source": [
    "def sq(func, x):\n",
    "    y = x**2\n",
    "    return func(y)\n",
    "\n",
    "def f(x):\n",
    "    return x**2\n",
    "\n",
    "calc = sq(f, 2)\n",
    "print(calc)"
   ]
  },
  {
   "cell_type": "markdown",
   "metadata": {},
   "source": [
    "### 8. Black Box and Glass Box Testing\n",
    "\n",
    "Is the below implementation correct, for the following values of `n = 4`, `n = -4` and `n = 5`? Fix any errors\n"
   ]
  },
  {
   "cell_type": "code",
   "execution_count": 21,
   "metadata": {},
   "outputs": [],
   "source": [
    "def is_even(n):\n",
    "    \"\"\" \n",
    "    Returns True if a number is even\n",
    "    and False if not \n",
    "    \"\"\"\n",
    "    if n > 0 and n % 2 == 0:\n",
    "        return True\n",
    "    elif n < 0 and n % 2 == 0:\n",
    "        return True\n",
    "    else: \n",
    "        return False\n"
   ]
  },
  {
   "cell_type": "markdown",
   "metadata": {},
   "source": [
    "### 9. Function scoping\n",
    "\n",
    "What is the value of `a` at the end of the Python code?"
   ]
  },
  {
   "cell_type": "code",
   "execution_count": 7,
   "metadata": {},
   "outputs": [
    {
     "name": "stdout",
     "output_type": "stream",
     "text": [
      "5\n"
     ]
    }
   ],
   "source": [
    "a = 5\n",
    "\n",
    "def function():\n",
    "    a = 3\n",
    "    return a\n",
    "\n",
    "function()\n",
    "\n",
    "# What is the value of a\n",
    "print(a)"
   ]
  }
 ],
 "metadata": {
  "kernelspec": {
   "display_name": "Python 3",
   "language": "python",
   "name": "python3"
  },
  "language_info": {
   "codemirror_mode": {
    "name": "ipython",
    "version": 3
   },
   "file_extension": ".py",
   "mimetype": "text/x-python",
   "name": "python",
   "nbconvert_exporter": "python",
   "pygments_lexer": "ipython3",
   "version": "3.8.5"
  }
 },
 "nbformat": 4,
 "nbformat_minor": 2
}
