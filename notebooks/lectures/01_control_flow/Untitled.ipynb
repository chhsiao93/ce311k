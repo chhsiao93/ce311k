{
 "cells": [
  {
   "cell_type": "code",
   "execution_count": 23,
   "metadata": {},
   "outputs": [
    {
     "name": "stdout",
     "output_type": "stream",
     "text": [
      "7.430394411087036\n"
     ]
    }
   ],
   "source": [
    "def fn(x):\n",
    "    return 0.5*0.6*x**2 + 4.5 * x - 50\n",
    "\n",
    "\n",
    "def f(x):\n",
    "    return 0.5*a*x**2+v0*x-d\n",
    "\n",
    "# Initial guess\n",
    "def bisect(x0, x1, fn):\n",
    "    # Set a tolerance\n",
    "    tolerance = 1e-5\n",
    "\n",
    "    for i in range(100):\n",
    "        # Compute the mid-value of theta\n",
    "        x = (x0 + x1) / 2\n",
    "\n",
    "        if((fn(x) * fn(x0)) < 0):\n",
    "            x1 = x\n",
    "        else:\n",
    "            x0 =  x\n",
    "\n",
    "        if (abs(fn(x)) <= tolerance):\n",
    "            break\n",
    "\n",
    "    else: #No break\n",
    "        print(\"Solution did not converge!\")\n",
    "\n",
    "    return(x)\n",
    "\n",
    "print(bisect(1, 10, f))"
   ]
  },
  {
   "cell_type": "code",
   "execution_count": 31,
   "metadata": {},
   "outputs": [
    {
     "name": "stdout",
     "output_type": "stream",
     "text": [
      "7.4248046875\n"
     ]
    }
   ],
   "source": [
    "a=0.6\n",
    "v0=4.5\n",
    "d=50\n",
    "\n",
    "def f(x):\n",
    "    return 0.5*a*x**2+v0*x-d\n",
    "\n",
    "def bisection(low, high, f):\n",
    "    tol=1e-6\n",
    "    x0 = low\n",
    "    x1 = high\n",
    "    for i in range(10):\n",
    "        \"\"\"\n",
    "        if f(low)*f(high) >= 0:\n",
    "            print(\"Invalid\")\n",
    "            break\n",
    "        \"\"\"\n",
    "        mid = (high + low)/2\n",
    "        if (f(low) * f(mid)) < 0:\n",
    "            high = mid\n",
    "        \n",
    "        else:\n",
    "            low = mid\n",
    "        \n",
    "        \n",
    "        if abs(f(mid)) < tol:\n",
    "            break\n",
    "    return mid\n",
    "\n",
    "\n",
    "print(bisection(1, 10, f))"
   ]
  },
  {
   "cell_type": "code",
   "execution_count": null,
   "metadata": {},
   "outputs": [],
   "source": []
  }
 ],
 "metadata": {
  "kernelspec": {
   "display_name": "Python 3",
   "language": "python",
   "name": "python3"
  },
  "language_info": {
   "codemirror_mode": {
    "name": "ipython",
    "version": 3
   },
   "file_extension": ".py",
   "mimetype": "text/x-python",
   "name": "python",
   "nbconvert_exporter": "python",
   "pygments_lexer": "ipython3",
   "version": "3.8.5"
  }
 },
 "nbformat": 4,
 "nbformat_minor": 2
}
