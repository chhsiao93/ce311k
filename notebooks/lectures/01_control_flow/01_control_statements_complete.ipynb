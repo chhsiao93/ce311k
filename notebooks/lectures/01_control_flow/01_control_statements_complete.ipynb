{
 "cells": [
  {
   "cell_type": "markdown",
   "metadata": {},
   "source": [
    "# Introduction\n",
    "\n",
    "Control statements allow a program to change what it does depending on input or other data.\n",
    "Typical flows in a computer program involve structures like:\n",
    "\n",
    "- if 'X' do task 'A', else if 'Y' do task 'B'\n",
    "- perform the task 'A' 'N' times\n",
    "- perform the task 'B' until 'X' is true\n",
    "\n",
    "These flows are implemented using what are called 'control statements'. They are also known as branching - the path a program follows depends on the input data. Control statements are a major part of all non-trivial computer programs.\n",
    "\n",
    "\n",
    "## Objectives\n",
    "\n",
    "- Introduce Boolean types\n",
    "- Introduce comparison operators\n",
    "- Learn to use control statements\n",
    "\n",
    "\n",
    "## Example of a control statement in pseudo code\n",
    "\n",
    "An electric window opener, attached to a rain sensor and a temperature \n",
    "gauge, might be controlled by the following program:\n",
    "\n",
    "    if raining:  # If raining, close the window\n",
    "        close_window()\n",
    "    else if temperature > 80:  # If the temperature is over 26 deg, open window\n",
    "        open_window()\n",
    "    else if temperature < 66:  # If the temperature is below 19 deg, close window\n",
    "        close_window()\n",
    "    else:  # Otherwise, do nothing and leave window as it is\n",
    "        pass\n",
    "\n",
    "It is easy to imagine the program being made more sophisticated using the time of the day and the day of the week, if the air-conditioning is on or being attached to a smoke alarm.\n",
    "\n",
    "We will look at different types of control statements, but first we need to introduce boolean types and comparison operators."
   ]
  },
  {
   "cell_type": "markdown",
   "metadata": {},
   "source": [
    "# Booleans\n",
    "\n",
    "Before starting with control statements, we need to introduce booleans.\n",
    "A Boolean is a type of variable that can take on one of two values - true or false."
   ]
  },
  {
   "cell_type": "code",
   "execution_count": 1,
   "metadata": {},
   "outputs": [
    {
     "name": "stdout",
     "output_type": "stream",
     "text": [
      "True\n",
      "False\n"
     ]
    }
   ],
   "source": [
    "a = True\n",
    "print(a)\n",
    "\n",
    "a = False\n",
    "print(a)"
   ]
  },
  {
   "cell_type": "markdown",
   "metadata": {},
   "source": [
    "Booleans are used extensively in control statements."
   ]
  },
  {
   "cell_type": "markdown",
   "metadata": {},
   "source": [
    "# Comparison operators\n",
    "\n",
    "We often want to check in a program how two variables are related to each other, for example if one is less than the other, or if two variables are equal. We do this with 'comparison operators', such as `<`, `<=`, `>`, `>=` and `==`. \n",
    "\n",
    "Below is an example checking if a number `a` is less than or greater than a number `b`:"
   ]
  },
  {
   "cell_type": "code",
   "execution_count": 2,
   "metadata": {},
   "outputs": [
    {
     "name": "stdout",
     "output_type": "stream",
     "text": [
      "False\n",
      "True\n"
     ]
    }
   ],
   "source": [
    "a = 10.0\n",
    "b = 9.9\n",
    "print(a < b)\n",
    "print(a > b)"
   ]
  },
  {
   "cell_type": "markdown",
   "metadata": {},
   "source": [
    "Equality is checked using '`==`', and '`!=`' is used to test if two variables are not equal. Below are some examples to read through."
   ]
  },
  {
   "cell_type": "code",
   "execution_count": 3,
   "metadata": {},
   "outputs": [
    {
     "name": "stdout",
     "output_type": "stream",
     "text": [
      "Is a equal to b?\n",
      "False\n",
      "Is a equal to c?\n",
      "True\n",
      "Is a not equal to c?\n",
      "False\n",
      "Is a less than or equal to b?\n",
      "False\n",
      "Is a less than or equal to c?\n",
      "True\n",
      "Is colour0 the same as colour1?\n",
      "False\n"
     ]
    }
   ],
   "source": [
    "a = 14\n",
    "b = -9\n",
    "c = 14\n",
    "\n",
    "# Check if a is equal to b \n",
    "print(\"Is a equal to b?\")\n",
    "print(a == b)\n",
    "\n",
    "# Check if a is equal to c \n",
    "print(\"Is a equal to c?\")\n",
    "print(a == c)\n",
    "\n",
    "# Check if a is not equal to c \n",
    "print(\"Is a not equal to c?\")\n",
    "print(a != c)\n",
    "\n",
    "# Check if a is less than or equal to b \n",
    "print(\"Is a less than or equal to b?\")\n",
    "print(a <= b)\n",
    "\n",
    "# Check if a is less than or equal to c \n",
    "print(\"Is a less than or equal to c?\")\n",
    "print(a <= c)\n",
    "\n",
    "# Check if two colours are the same\n",
    "colour0 = 'blue'\n",
    "colour1 = 'green'\n",
    "print(\"Is colour0 the same as colour1?\")\n",
    "print(colour0 == colour1)"
   ]
  },
  {
   "cell_type": "markdown",
   "metadata": {},
   "source": [
    "# Boolean operators\n",
    "\n",
    "In the above we have only used one comparison at a time. Boolean operators allow us to 'string' together multiple checks using the operators '`and`', '`or`' and '`not`'.\n",
    "The operators '`and`' and '`or`' take a boolean on either side, and the code\n",
    "```python\n",
    "X and Y\n",
    "```\n",
    "will evaluate to `True` if `X` *and* `Y` are both true, and otherwise will evaluate to `False`. The code\n",
    "```python\n",
    "X or Y\n",
    "```\n",
    "will evaluate to `True` if `X` *or* `Y` is true, and otherwise will evaluate to `False`.\n",
    "Here are some examples:"
   ]
  },
  {
   "cell_type": "code",
   "execution_count": 4,
   "metadata": {},
   "outputs": [
    {
     "name": "stdout",
     "output_type": "stream",
     "text": [
      "False\n"
     ]
    }
   ],
   "source": [
    "# If 10 < 9 (false) and 15 < 20 (true) -> false\n",
    "print(10 < 9 and 15 < 20)"
   ]
  },
  {
   "cell_type": "code",
   "execution_count": 5,
   "metadata": {},
   "outputs": [
    {
     "name": "stdout",
     "output_type": "stream",
     "text": [
      "True\n"
     ]
    }
   ],
   "source": [
    "# Check if 10 < 9 (false) or 15 < 20 (true) -> true\n",
    "print(10 < 9 or 15 < 20)"
   ]
  },
  {
   "cell_type": "markdown",
   "metadata": {},
   "source": [
    "The meaning of the statement becomes clear if read it left-to-right.\n",
    "\n",
    "Note that the comparison operators (`>=`, `<=`, `<` and `>`) are evaluated before the Boolean operators (`and`, `or`).\n",
    "\n",
    "In Python, the '`not`' operator negates a statement, e.g.:"
   ]
  },
  {
   "cell_type": "code",
   "execution_count": 6,
   "metadata": {},
   "outputs": [
    {
     "name": "stdout",
     "output_type": "stream",
     "text": [
      "True\n"
     ]
    }
   ],
   "source": [
    "# Is 12 *not* less than 7 -> true\n",
    "a = 12\n",
    "b = 7\n",
    "print(not a < b)"
   ]
  },
  {
   "cell_type": "markdown",
   "metadata": {},
   "source": [
    "Only use '`not`' when it makes a program easy to read. For example, the following is not good practice."
   ]
  },
  {
   "cell_type": "code",
   "execution_count": 7,
   "metadata": {},
   "outputs": [
    {
     "name": "stdout",
     "output_type": "stream",
     "text": [
      "True\n"
     ]
    }
   ],
   "source": [
    "print(not 12 == 7)"
   ]
  },
  {
   "cell_type": "markdown",
   "metadata": {},
   "source": [
    "Better is"
   ]
  },
  {
   "cell_type": "code",
   "execution_count": 8,
   "metadata": {},
   "outputs": [
    {
     "name": "stdout",
     "output_type": "stream",
     "text": [
      "True\n"
     ]
    }
   ],
   "source": [
    "print(12 != 7)"
   ]
  },
  {
   "cell_type": "markdown",
   "metadata": {},
   "source": [
    "Here is a double-negation, which is very cryptic (and poor programming):"
   ]
  },
  {
   "cell_type": "code",
   "execution_count": 9,
   "metadata": {},
   "outputs": [
    {
     "name": "stdout",
     "output_type": "stream",
     "text": [
      "False\n"
     ]
    }
   ],
   "source": [
    "print(not not 12 == 7)"
   ]
  },
  {
   "cell_type": "markdown",
   "metadata": {},
   "source": [
    "## Multiple comparison operators\n",
    "\n",
    "The examples so far use at most two comparison operators. In some cases we might want to perform more checks. We can control the order of evaluation using brackets. For example, if we want to check if a number is strictly between 100 and 200, or between 10 and 50:"
   ]
  },
  {
   "cell_type": "code",
   "execution_count": 10,
   "metadata": {},
   "outputs": [
    {
     "name": "stdout",
     "output_type": "stream",
     "text": [
      "True\n"
     ]
    }
   ],
   "source": [
    "value = 150.5\n",
    "print ((value > 100 and value < 200) or (value > 10 and value < 50)) "
   ]
  },
  {
   "cell_type": "markdown",
   "metadata": {},
   "source": [
    "The two checks in the brackets are evaluated first (each evaluates to `True` or `False`), and then the '`or`' checks if one of the two is true."
   ]
  },
  {
   "cell_type": "markdown",
   "metadata": {},
   "source": [
    "# Control statements\n",
    "\n",
    "Now that we've covered comparison, we are ready to look at control statements. These are a central part of computing. Here is a control statement in pseudo code:\n",
    "\n",
    "    if A is true\n",
    "        Perform task X (only)\n",
    "    else if B is true\n",
    "        Perform task Y (only)\n",
    "    else   \n",
    "        Perform task Z (only)\n",
    "\n",
    "The above is an 'if' statement. Another type of control statement is\n",
    "\n",
    "    do task X 10 times\n",
    "    \n",
    "We make this concrete below with some examples."
   ]
  },
  {
   "cell_type": "markdown",
   "metadata": {},
   "source": [
    "## `if` statements\n",
    "\n",
    "Below is a simple example that demonstrates the Python syntax for an if-else control statement. \n",
    "For a value assigned to a variable `x`, the program prints a message and modifies `x`.\n",
    "The message and the modification of `x` depend on the initial value of `x`:"
   ]
  },
  {
   "cell_type": "code",
   "execution_count": 11,
   "metadata": {},
   "outputs": [
    {
     "name": "stdout",
     "output_type": "stream",
     "text": [
      "Initial x is less than zero\n",
      "New x value: -5.0\n"
     ]
    }
   ],
   "source": [
    "x = -10.0  # Initial x value\n",
    "\n",
    "if x > 0.0:  \n",
    "    print('Initial x is greater than zero')\n",
    "    x *= 2\n",
    "elif x < 0.0:  \n",
    "    print('Initial x is less than zero')\n",
    "    x /= 2\n",
    "else: \n",
    "    print('Initial x is not less than zero and not greater than zero, therefore it must be zero')\n",
    "\n",
    "# Print new x value\n",
    "print(\"New x value:\", x)"
   ]
  },
  {
   "cell_type": "markdown",
   "metadata": {},
   "source": [
    "Try changing the value of `x` and re-running the cell to see the different paths the code can follow."
   ]
  },
  {
   "cell_type": "markdown",
   "metadata": {},
   "source": [
    "We now dissect the control statement example. The control statement begins with an `if`, followed by the expression to check, followed by '`:`'\n",
    "```python\n",
    "if x > 0.0:\n",
    "```\n",
    "Below that is a block of code, indented by four spaces, that is executed if the check (`x > 0.0`) is true:\n",
    "````python\n",
    "    print('Initial x is greater than zero')\n",
    "    x *= 2.0\n",
    "````\n",
    "and in which case the program will then move beyond the end of the control statement. If the check evaluates to false, then the `elif` (else if) check  \n",
    "```python\n",
    "elif x < 0.0:\n",
    "    print('Initial x is less than zero')\n",
    "    x /= 2.0\n",
    "```      \n",
    "is performed, and if true '`print('x is less than zero')`' is executed and the control block is exited. The code following the `else` statement is executed\n",
    "```python\n",
    "else:\n",
    "    print('Initial x is not less than zero and not greater than zero, therefore it must be zero')\n",
    "```\n",
    "if none of the preceding statements were true."
   ]
  },
  {
   "cell_type": "markdown",
   "metadata": {},
   "source": [
    "## Check if a number is divisible by 2 and 3, or print if is divisible by either 2 or 3\n"
   ]
  },
  {
   "cell_type": "code",
   "execution_count": 23,
   "metadata": {},
   "outputs": [
    {
     "name": "stdout",
     "output_type": "stream",
     "text": [
      "6 is divisible by 2 and 3\n"
     ]
    }
   ],
   "source": [
    "## Check if a number is divisible by 2 and 3, or print if is divisible by either 2 or 3\n",
    "\n",
    "n = 6\n",
    "\n",
    "if (n % 2 == 0 and n % 3 == 0):\n",
    "    print(n, \"is divisible by 2 and 3\")\n",
    "elif(n % 2 == 0):\n",
    "    print(n, \"is divisible only by 2\")\n",
    "elif(n % 3 == 0):\n",
    "    print(n, \"is divisible only by 3\")\n",
    "else:\n",
    "    print(n, \"is not divisible by either 2 or 3\")"
   ]
  },
  {
   "cell_type": "markdown",
   "metadata": {},
   "source": [
    "## The Taylor series expansion for cos(x) is\n",
    "    $$ \\cos(x) = 1 - \\frac{x^2}{2!} + \\frac{x^4}{4!} - \\frac{x^6}{6!}+ \\dots = \\sum_{n = 0}^{\\infty}\\frac{(-1)^n}{(2n)!}x^{2n}$$"
   ]
  },
  {
   "cell_type": "code",
   "execution_count": 7,
   "metadata": {},
   "outputs": [
    {
     "name": "stdout",
     "output_type": "stream",
     "text": [
      "2\n",
      "4\n",
      "6\n",
      "8\n",
      "10\n",
      "0.8775825618898637\n",
      "0.8775825618903728\n"
     ]
    }
   ],
   "source": [
    "import math\n",
    "x = 0.5\n",
    "\n",
    "cos = 1\n",
    "n = 12\n",
    "j = 1\n",
    "for i in range(2, n, 2):\n",
    "    print(i)\n",
    "    j *= -1\n",
    "    cos += j * x**i/math.factorial(i)\n",
    "\n",
    "print(cos)\n",
    "print(math.cos(x))\n",
    "assert(round(cos - math.cos(x), 5) == 0.0)"
   ]
  },
  {
   "cell_type": "markdown",
   "metadata": {},
   "source": [
    "## Check if a number is prime\n"
   ]
  },
  {
   "cell_type": "code",
   "execution_count": 13,
   "metadata": {},
   "outputs": [
    {
     "name": "stdout",
     "output_type": "stream",
     "text": [
      "50 is not prime\n"
     ]
    }
   ],
   "source": [
    "n = 50\n",
    "\n",
    "# Assume that n is prime\n",
    "n_is_prime = True\n",
    "\n",
    "# Check if n can be divided by m, where m ranges from 2 to n (excluding n)\n",
    "for m in range(2, n):\n",
    "    if n % m == 0:  # This is true if the remainder for n/m is equal to zero\n",
    "        # We've found that n is divisable by m, so it can't be a prime number. \n",
    "        # No need to check for more values of m, so set n_is_prime = False and\n",
    "        # exit the 'm' loop.\n",
    "        n_is_prime = False\n",
    "        break\n",
    "\n",
    "#  If n is prime, print to screen        \n",
    "if n_is_prime:\n",
    "    print(n, \"is prime\")\n",
    "else:\n",
    "    print(n, \"is not prime\")"
   ]
  },
  {
   "cell_type": "markdown",
   "metadata": {},
   "source": [
    "## Iterate through a loop and find the optimal solution using an `if` condition"
   ]
  },
  {
   "cell_type": "code",
   "execution_count": 12,
   "metadata": {},
   "outputs": [
    {
     "name": "stdout",
     "output_type": "stream",
     "text": [
      "37 15.000038671163749\n"
     ]
    },
    {
     "data": {
      "image/png": "[encoded data removed]",
      "text/plain": [
       "<Figure size 432x288 with 1 Axes>"
      ]
     },
     "metadata": {
      "needs_background": "light"
     },
     "output_type": "display_data"
    }
   ],
   "source": [
    "# Iterate through angles using range and identify the optimum angle\n",
    "\n",
    "# Import module\n",
    "import math # trignometric functions\n",
    "import sys # maximum int\n",
    "import matplotlib.pyplot as plt\n",
    "%matplotlib inline\n",
    "\n",
    "# Assign variables\n",
    "mu = 0.75   # friction coefficient\n",
    "weight = 25 # Weight of the block in kN\n",
    "theta = 45  # angle in degrees\n",
    "\n",
    "# Create an empty list of forces\n",
    "forces = []\n",
    "\n",
    "# Create a list of angles from 0 to 90, range(0, 91, 1)\n",
    "angles = list(range(91))\n",
    "\n",
    "min_force = sys.maxsize\n",
    "min_theta = 0\n",
    "\n",
    "# Iterate through all angles\n",
    "for theta in angles:\n",
    "    # Compute pulling force: F = (mu * W) / (cos(theta) + mu * sin(theta))\n",
    "    force = (mu * weight) / (math.cos(math.radians(theta)) +\n",
    "                                       mu * math.sin(math.radians(theta)))\n",
    "\n",
    "    forces.append(force)\n",
    "    # If the minimum force is greater than the current force, replace with current force\n",
    "    if min_force > force:\n",
    "        min_force = force\n",
    "        min_theta = theta\n",
    "\n",
    "# Plot angles vs forces\n",
    "plt.plot(angles, forces)\n",
    "print(min_theta, min_force)"
   ]
  },
  {
   "cell_type": "markdown",
   "metadata": {},
   "source": [
    "## Loops: `break` and `continue`\n",
    "\n",
    "### `break`\n",
    "\n",
    "Sometimes we want to break out of a `for`. Maybe in a `for` loop we can check if something is true, and then exit the loop prematurely. Below is a program for finding prime numbers that uses a `break` statement. Take some time to understand what it does. It might be helpful to add some print statements to understand the flow."
   ]
  },
  {
   "cell_type": "code",
   "execution_count": 13,
   "metadata": {},
   "outputs": [
    {
     "name": "stdout",
     "output_type": "stream",
     "text": [
      "2\n",
      "3\n",
      "5\n",
      "7\n",
      "11\n",
      "13\n",
      "17\n",
      "19\n",
      "23\n",
      "29\n",
      "31\n",
      "37\n",
      "41\n",
      "43\n",
      "47\n"
     ]
    }
   ],
   "source": [
    "N = 50  # Check numbers up 50 for primes (excludes 50)\n",
    "\n",
    "# Loop over all numbers from 2 to 50 (excluding 50)\n",
    "for n in range(2, N):\n",
    "\n",
    "    # Assume that n is prime\n",
    "    n_is_prime = True\n",
    "\n",
    "    # Check if n can be divided by m, where m ranges from 2 to n (excluding n)\n",
    "    for m in range(2, n):\n",
    "        if n % m == 0:  # This is true if the remainder for n/m is equal to zero\n",
    "            # We've found that n is divisable by m, so it can't be a prime number. \n",
    "            # No need to check for more values of m, so set n_is_prime = False and\n",
    "            # exit the 'm' loop.\n",
    "            n_is_prime = False\n",
    "            break\n",
    "\n",
    "    #  If n is prime, print to screen        \n",
    "    if n_is_prime:\n",
    "        print(n)"
   ]
  },
  {
   "cell_type": "markdown",
   "metadata": {},
   "source": [
    "Try modifying the code for finding prime numbers such that it finds the first $N$ prime numbers (since you do not know how many numbers you need to check to find $N$ primes)."
   ]
  },
  {
   "cell_type": "markdown",
   "metadata": {},
   "source": [
    "### `continue`\n",
    "\n",
    "Sometimes we want to go prematurely to the next iteration in a loop, skipping the remaining code.\n",
    "For this we use `continue`. Here is an example of the prime number calculator, except we now exit the loop if the number is divisible by 2 (even). If it is divisible by 2 it moves to the next value. If it is not divisible by 2 it advances the loop. "
   ]
  },
  {
   "cell_type": "code",
   "execution_count": 14,
   "metadata": {},
   "outputs": [
    {
     "name": "stdout",
     "output_type": "stream",
     "text": [
      "2\n",
      "3\n",
      "5\n",
      "7\n",
      "11\n",
      "13\n",
      "17\n",
      "19\n",
      "23\n",
      "29\n",
      "31\n",
      "37\n",
      "41\n",
      "43\n",
      "47\n"
     ]
    }
   ],
   "source": [
    "N = 50  # Check numbers up 50 for primes (excludes 50)\n",
    "\n",
    "# Loop over all numbers from 2 to 50 (excluding 50)\n",
    "for n in range(2, N):\n",
    "\n",
    "    # Assume that n is prime\n",
    "    n_is_prime = True\n",
    "    \n",
    "    # Check if n is divisible by 2\n",
    "    if n % 2 == 0 and n !=2:\n",
    "        continue\n",
    "\n",
    "    # Check if n can be divided by m, where m ranges from 2 to n (excluding n)\n",
    "    for m in range(2, n):\n",
    "        if n % m == 0:  # This is true if the remainder for n/m is equal to zero\n",
    "            # We've found that n is divisable by m, so it can't be a prime number. \n",
    "            # No need to check for more values of m, so set n_is_prime = False and\n",
    "            # exit the 'm' loop.\n",
    "            n_is_prime = False\n",
    "            break\n",
    "\n",
    "    #  If n is prime, print to screen        \n",
    "    if n_is_prime:\n",
    "        print(n)"
   ]
  },
  {
   "cell_type": "markdown",
   "metadata": {},
   "source": [
    "### Break\n",
    "\n",
    "The `break` statement is used to terminate the loop prematurely when a certain condition is met. When break statement is encountered inside the body of the loop, the current iteration stops and program control immediately jumps to the statement following the loop. \n"
   ]
  },
  {
   "cell_type": "code",
   "execution_count": 8,
   "metadata": {},
   "outputs": [
    {
     "name": "stdout",
     "output_type": "stream",
     "text": [
      "5\n",
      "11\n",
      "18\n",
      "4\n",
      "3\n",
      "-8\n",
      "The list has a negative number\n"
     ]
    }
   ],
   "source": [
    "# Check if we have a negative number in our list of numbers\n",
    "\n",
    "numbers = [5, 11, 18, 4, 3, -8, 7, 0, -2, 1, 6, 3, -19, 21]\n",
    "\n",
    "for number in numbers:\n",
    "    print(number)\n",
    "    if number < 0:\n",
    "        print(\"The list has a negative number\")\n",
    "        break"
   ]
  },
  {
   "cell_type": "markdown",
   "metadata": {},
   "source": [
    "It finds factors for numbers between 2 to 10. Now for the fun part. We can add an additional else block which catches the numbers which have no factors and are therefore prime numbers:"
   ]
  },
  {
   "cell_type": "code",
   "execution_count": 11,
   "metadata": {},
   "outputs": [
    {
     "name": "stdout",
     "output_type": "stream",
     "text": [
      "2 is a prime number\n",
      "3 is a prime number\n",
      "4 equals 2 * 2\n",
      "5 is a prime number\n",
      "6 equals 2 * 3\n",
      "7 is a prime number\n",
      "8 equals 2 * 4\n",
      "9 equals 3 * 3\n"
     ]
    }
   ],
   "source": [
    "for n in range(2, 10):\n",
    "    for x in range(2, n):\n",
    "         if n % x == 0:\n",
    "            print(n, 'equals', x, '*', n//x)\n",
    "            break\n",
    "    else: #nobreak\n",
    "        # loop fell through without finding a factor\n",
    "        print(n, 'is a prime number')"
   ]
  },
  {
   "cell_type": "markdown",
   "metadata": {},
   "source": [
    "### Continue\n",
    "\n",
    "The continue statement is used to move ahead to the next iteration without executing the remaining statement in the body of the loop. \n"
   ]
  },
  {
   "cell_type": "code",
   "execution_count": 25,
   "metadata": {},
   "outputs": [
    {
     "name": "stdout",
     "output_type": "stream",
     "text": [
      "Adding 5 new sum 5\n",
      "Adding 11 new sum 16\n",
      "Adding 18 new sum 34\n",
      "Adding 4 new sum 38\n",
      "Adding 3 new sum 41\n",
      "Adding 7 new sum 48\n",
      "Adding 0 new sum 48\n",
      "Adding 1 new sum 49\n",
      "Adding 6 new sum 55\n",
      "Adding 3 new sum 58\n",
      "Adding 21 new sum 79\n",
      "79\n"
     ]
    }
   ],
   "source": [
    "# Sum of all positive numbers in the list\n",
    "\n",
    "numbers = [5, 11, 18, 4, 3, -8, 7, 0, -2, 1, 6, 3, -19, 21]\n",
    "\n",
    "sum = 0\n",
    "for number in numbers:\n",
    "    if number < 0:\n",
    "        continue\n",
    "    sum += number\n",
    "    print(\"Adding\", number, \"new sum\", sum)\n",
    "\n",
    "print(sum)"
   ]
  },
  {
   "cell_type": "markdown",
   "metadata": {},
   "source": [
    "## Bisection approach for computing the angle for a given force\n"
   ]
  },
  {
   "cell_type": "code",
   "execution_count": 24,
   "metadata": {},
   "outputs": [
    {
     "name": "stdout",
     "output_type": "stream",
     "text": [
      "After 14 iterations the angle is 67.872620 deg, which gives a force of 17.5000005229 kN at a tolerance of 1.00E-05\n"
     ]
    }
   ],
   "source": [
    "# Import modules\n",
    "import math\n",
    "\n",
    "# Initial guess\n",
    "theta1 = 60\n",
    "theta2 = 90\n",
    "\n",
    "# Assign variables\n",
    "mu = 0.75   # friction coefficient\n",
    "weight = 25 # Weight of the block in kN\n",
    "force = 17.5 # kN\n",
    "\n",
    "theta = 0  # angle in degrees\n",
    "\n",
    "# Set a tolerance\n",
    "tolerance = 1e-5\n",
    "\n",
    "# Iterate to a maximum of 1000 iterations\n",
    "max_iterations = 100\n",
    "\n",
    "iterations = 0\n",
    "\n",
    "for i in range(max_iterations):\n",
    "\n",
    "    # Compute forces for theta1 and theta2\n",
    "    delta1 = force - (mu * weight) / (math.cos(math.radians(theta1)) +\n",
    "                                       mu * math.sin(math.radians(theta1)))\n",
    "    \n",
    "    delta2 = force - (mu * weight) / (math.cos(math.radians(theta2)) +\n",
    "                                       mu * math.sin(math.radians(theta2)))\n",
    "    \n",
    "    # Compute the mid-value of theta\n",
    "    theta = (theta1 + theta2)/2\n",
    "    \n",
    "    # Calculate the difference delta for the mid-theta   \n",
    "    delta = force - (mu * weight) / (math.cos(math.radians(theta)) +\n",
    "                                       mu * math.sin(math.radians(theta)))\n",
    "    \n",
    "    if((delta * delta1) > 0):\n",
    "        theta1 = theta\n",
    "    else:\n",
    "        theta2 =  theta\n",
    "    \n",
    "    # Final values at the end of iterations\n",
    "    iterations = i\n",
    "    \n",
    "    if (abs(delta) <= tolerance):\n",
    "        break\n",
    "\n",
    "else: #No break\n",
    "    print(\"Solution did not converge!\")\n",
    "    \n",
    "final_force = (mu * weight) / (math.cos(math.radians(theta)) +\n",
    "                                       mu * math.sin(math.radians(theta)))\n",
    "\n",
    "print('After', iterations, 'iterations the angle is {:.6f} deg, \\\n",
    "which gives a force of {:.10f} kN at a tolerance of {:.2E}'.format(theta, final_force, tolerance))"
   ]
  },
  {
   "cell_type": "markdown",
   "metadata": {},
   "source": [
    "Note that the initial guess of 60 and 90 gave a result of 67.87 degrees, but an initial guess of 0 would give a value of theta equals 5.8672 degrees."
   ]
  },
  {
   "cell_type": "markdown",
   "metadata": {},
   "source": [
    "# Forces on a sliding block with multiple friction angles"
   ]
  },
  {
   "cell_type": "code",
   "execution_count": 16,
   "metadata": {},
   "outputs": [
    {
     "data": {
      "image/png": "[encoded data removed]",
      "text/plain": [
       "<Figure size 540x360 with 1 Axes>"
      ]
     },
     "metadata": {
      "needs_background": "light"
     },
     "output_type": "display_data"
    }
   ],
   "source": [
    "# Import matplotlib for plotting\n",
    "# Import math for trignometric functions\n",
    "import math\n",
    "import matplotlib.pyplot as plt\n",
    "import sys\n",
    "%matplotlib inline\n",
    "# Set plot size\n",
    "plt.rcParams['figure.figsize'] = [7.5, 5]\n",
    "\n",
    "# Weight of the block\n",
    "weight = 25  # kN, A typical pyramid block is 2500 kg\n",
    "# Friction on the bottom plane\n",
    "frictions = [0.25, 0.5, 0.75]\n",
    "colors = ['rs', 'b*', 'go']\n",
    "lines = ['r--', 'b-', 'g-.']\n",
    "index = 0\n",
    "for friction in frictions:\n",
    "    force_min = sys.maxsize\n",
    "\n",
    "    # Create an empty list of angles and forces\n",
    "    angles = []\n",
    "    forces = []\n",
    "\n",
    "    # for angles between 0 and 90*\n",
    "    for theta in range(0, 90, 1):\n",
    "\n",
    "        # Compute pulling force: F = (mu * W) / (cos(theta) + mu * sin(theta))\n",
    "        force = (friction * weight) / (math.cos(math.radians(theta)) +\n",
    "                                       friction * math.sin(math.radians(theta)))\n",
    "\n",
    "        # Add to list of angles and forces\n",
    "        angles.append(theta)\n",
    "        forces.append(force)\n",
    "        if force < force_min:\n",
    "            force_min = force  # Minimum force\n",
    "            theta_min = theta  # Pulling angle that yields the minimum force\n",
    "\n",
    "    # Plot force and angles\n",
    "    plt.plot(angles, forces, lines[index], label='mu = ' + str(friction))\n",
    "    plt.plot(theta_min, force_min, colors[index])\n",
    "    # Increase index for color and lines\n",
    "    index += 1\n",
    "\n",
    "# Configure labels and legends\n",
    "plt.xticks(fontsize=14)\n",
    "plt.yticks(fontsize=14)\n",
    "plt.xlabel(\"pulling angle (degrees)\", fontsize=14)\n",
    "plt.ylabel(\"required pulling force (kN)\", fontsize=14)\n",
    "plt.legend(fontsize=12)\n",
    "\n",
    "# Display plot\n",
    "plt.show()"
   ]
  }
 ],
 "metadata": {
  "kernelspec": {
   "display_name": "Python 3",
   "language": "python",
   "name": "python3"
  },
  "language_info": {
   "codemirror_mode": {
    "name": "ipython",
    "version": 3
   },
   "file_extension": ".py",
   "mimetype": "text/x-python",
   "name": "python",
   "nbconvert_exporter": "python",
   "pygments_lexer": "ipython3",
   "version": "3.8.5"
  }
 },
 "nbformat": 4,
 "nbformat_minor": 1
}
