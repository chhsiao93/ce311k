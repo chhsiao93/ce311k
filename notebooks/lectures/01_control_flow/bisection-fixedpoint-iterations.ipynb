{
 "cells": [
  {
   "cell_type": "markdown",
   "metadata": {
    "colab_type": "text",
    "id": "NSr0-q72U2C-"
   },
   "source": [
    "# Find the roots of a function\n",
    "\n",
    "$y = f(x)=x^3-x-2$\n",
    "\n",
    "## fixed point iteration"
   ]
  },
  {
   "cell_type": "code",
   "execution_count": 16,
   "metadata": {
    "colab": {
     "base_uri": "https://localhost:8080/",
     "height": 35
    },
    "colab_type": "code",
    "executionInfo": {
     "elapsed": 544,
     "status": "ok",
     "timestamp": 1600468442776,
     "user": {
      "displayName": "Krishna Kumar",
      "photoUrl": "",
      "userId": "11977884434942466075"
     },
     "user_tz": 300
    },
    "id": "vgwRSMllUrHy",
    "outputId": "184c9849-818f-4668-aa11-5328cc512143"
   },
   "outputs": [
    {
     "name": "stdout",
     "output_type": "stream",
     "text": [
      "The root of the function is 1.5212999999999426 found after 5214 iterations\n"
     ]
    }
   ],
   "source": [
    "import numpy as np\n",
    "\n",
    "# tolerance\n",
    "tol = 1e-3\n",
    "iterations = 0\n",
    "for x in np.arange(1,2,0.0001):\n",
    "  y = x**3 - x - 2\n",
    "  iterations = iterations + 1\n",
    "  if abs(y) < tol:\n",
    "    print(\"The root of the function is {} found after {} iterations\".format(x, iterations))\n",
    "    break\n",
    "else:\n",
    "  print(\"Solution did not converge to our criteria\")\n",
    "\n"
   ]
  },
  {
   "cell_type": "markdown",
   "metadata": {
    "colab_type": "text",
    "id": "QIfOV4WWNC3W"
   },
   "source": [
    "## Bisection approach\n",
    "\n",
    "$y = f(x)=x^3-x-2$"
   ]
  },
  {
   "cell_type": "code",
   "execution_count": 1,
   "metadata": {
    "colab": {
     "base_uri": "https://localhost:8080/",
     "height": 35
    },
    "colab_type": "code",
    "executionInfo": {
     "elapsed": 335,
     "status": "ok",
     "timestamp": 1600468454236,
     "user": {
      "displayName": "Krishna Kumar",
      "photoUrl": "",
      "userId": "11977884434942466075"
     },
     "user_tz": 300
    },
    "id": "blNp61MELAa9",
    "outputId": "52b8e8ce-db3d-4170-cfe2-0422241821b6"
   },
   "outputs": [
    {
     "name": "stdout",
     "output_type": "stream",
     "text": [
      "After 22 iterations the root of f(x) 1.5213799476623535 1.43E-06\n"
     ]
    }
   ],
   "source": [
    "# y = f(x)=x^3-x-2\n",
    "\n",
    "# Import modules\n",
    "import math\n",
    "import numpy as np\n",
    "\n",
    "# Initial guess\n",
    "x1 = 0\n",
    "x2 = 2\n",
    "\n",
    "# Mid guess\n",
    "x = 0  \n",
    "\n",
    "# Set a tolerance\n",
    "tolerance = 1e-5\n",
    "\n",
    "# Iterate to a maximum of 1000 iterations\n",
    "max_iterations = 100\n",
    "\n",
    "iterations = 0\n",
    "\n",
    "for i in np.arange(max_iterations):\n",
    "\n",
    "    # Compute forces for theta1 and theta2\n",
    "    delta1 = x1**3 - x1 -2\n",
    "    \n",
    "    delta2 = x2**3 - x2 -2\n",
    "    \n",
    "    # Compute the mid-value of theta\n",
    "    x = (x1 + x2)/2\n",
    "    \n",
    "    # Calculate the difference delta for the mid-theta   \n",
    "    delta =  x**3 - x -2\n",
    "    \n",
    "    if((delta * delta1) > 0):\n",
    "        x1 = x\n",
    "    else:\n",
    "        x2 =  x\n",
    "    \n",
    "    # Final values at the end of iterations\n",
    "    iterations = i\n",
    "    \n",
    "    if (abs(delta) <= tolerance):\n",
    "        break\n",
    "\n",
    "else: #No break\n",
    "    print(\"Solution did not converge!\")\n",
    "    \n",
    "print('After {} iterations the root of f(x) {} {:.2E}'.format(iterations, x, delta))"
   ]
  },
  {
   "cell_type": "code",
   "execution_count": null,
   "metadata": {
    "colab": {},
    "colab_type": "code",
    "id": "0xeKQrlaN_fv"
   },
   "outputs": [],
   "source": []
  }
 ],
 "metadata": {
  "colab": {
   "authorship_tag": "ABX9TyM0cuERBEchr2EXFBsB7vH2",
   "name": "bisection.ipynb",
   "provenance": []
  },
  "kernelspec": {
   "display_name": "Python 3",
   "language": "python",
   "name": "python3"
  },
  "language_info": {
   "codemirror_mode": {
    "name": "ipython",
    "version": 3
   },
   "file_extension": ".py",
   "mimetype": "text/x-python",
   "name": "python",
   "nbconvert_exporter": "python",
   "pygments_lexer": "ipython3",
   "version": "3.8.5"
  }
 },
 "nbformat": 4,
 "nbformat_minor": 1
}
