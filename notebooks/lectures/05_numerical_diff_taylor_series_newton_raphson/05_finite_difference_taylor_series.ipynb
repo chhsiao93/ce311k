{
 "cells": [
  {
   "cell_type": "markdown",
   "metadata": {},
   "source": [
    "# Taylor series and approximations\n",
    "\n",
    "Taylor series is one the best tools maths has to offer for approximating functions. Taylor series is about taking non-polynomial functions and finding polyomials that approximate at some input. The motive here is the polynomials tend to be much easier to deal with than other functions, they are easier to compute, take derivatives, integrate, just easier overall. "
   ]
  },
  {
   "cell_type": "markdown",
   "metadata": {},
   "source": [
    "## Potential energy of a simple pendulum\n",
    "\n",
    "\n",
    "To determine the potential energy of a pendulum, for that we need an expression for how high the weight of the pendulum is above its lowest point. This works out to be  $h = R(1 - \\cos(\\theta))$ The cosine function made the problem awkward and unweildy. But, if we approximate the $\\cos(\\theta) \\approx 1 + \\frac{\\theta^2}{2}$ of all things, everything just fell into place much more easily. An approximation like that might seem completely out of left field. If we graph these functions, they do look close to each other for small angles.\n"
   ]
  },
  {
   "cell_type": "code",
   "execution_count": null,
   "metadata": {},
   "outputs": [],
   "source": [
    "import matplotlib.pyplot as plt\n",
    "import math\n",
    "import numpy as np\n",
    "% matplotlib inline\n",
    "\n",
    "\n",
    "\n",
    "\n",
    "plt.xlim([-1, 1])\n",
    "plt.ylim([0.5, 1])"
   ]
  },
  {
   "cell_type": "markdown",
   "metadata": {},
   "source": [
    "## Approximate solution of $e^x$"
   ]
  },
  {
   "cell_type": "code",
   "execution_count": null,
   "metadata": {},
   "outputs": [],
   "source": [
    "# Approximation of e^x\n",
    "from ipywidgets import interactive\n",
    "import ipywidgets as widgets\n",
    "\n",
    "from matplotlib.pyplot import figure\n",
    "import matplotlib.pyplot as plt\n",
    "import math\n",
    "import numpy as np\n",
    "% matplotlib inline\n",
    "\n",
    "# Define a Taylor series approximation of e^x\n",
    "def taylor_ex(n, xmin = 0, xmax = 5):\n",
    "    # Numpy arange to generate x\n",
    "    x = np.arange(xmin, xmax,0.1)\n",
    "    # List comprehension\n",
    "    y = [math.exp(i) for i in x]\n",
    "\n",
    "    # Plot exact solution\n",
    "    plt.plot(x, y)\n",
    "\n",
    "    # Create approximate solution of e^x\n",
    "    def approx_ex(x, n):\n",
    "        ex = 0\n",
    "        for i in range(n):\n",
    "            ex += x**i/math.factorial(i)\n",
    "        return ex\n",
    "\n",
    "    z = [approx_ex(i, n) for i in x]\n",
    "\n",
    "    # Plot approximate solution\n",
    "    plt.plot(x, z, linewidth=2.0, color=\"orange\")\n",
    "    plt.rcParams['figure.figsize'] = [10, 10]\n",
    "    plt.xlabel(\"x\")\n",
    "    plt.ylabel(\"e^x\")\n",
    "    plt.show()\n",
    "    \n",
    "\n",
    "interactive_plot = widgets.interactive(taylor_ex, n=widgets.IntSlider(min=1, max=15, step=1, value=1), xmin = (0, 0), xmax = (2, 5))\n",
    "interactive_plot\n"
   ]
  },
  {
   "cell_type": "markdown",
   "metadata": {},
   "source": [
    "## Approximation of cos(x)"
   ]
  },
  {
   "cell_type": "code",
   "execution_count": null,
   "metadata": {},
   "outputs": [],
   "source": [
    "import matplotlib.pyplot as plt\n",
    "import math\n",
    "import numpy as np\n",
    "% matplotlib inline\n",
    "\n",
    "x = np.arange(-9,9.1,0.1)   # start,stop,step\n",
    "y = np.cos(x)\n",
    "\n",
    "plt.plot(x, y)\n",
    "\n",
    "\n",
    "plt.xlim([-2, 2])\n",
    "plt.ylim([-1, 1])"
   ]
  },
  {
   "cell_type": "code",
   "execution_count": null,
   "metadata": {},
   "outputs": [],
   "source": [
    "# Approximation of cos(x)\n",
    "from ipywidgets import interactive\n",
    "import ipywidgets as widgets\n",
    "\n",
    "from matplotlib.pyplot import figure\n",
    "import matplotlib.pyplot as plt\n",
    "import math\n",
    "import numpy as np\n",
    "% matplotlib inline\n",
    "\n",
    "# Define a Taylor series approximation of cos(x)\n",
    "def taylor_cosx(n):\n",
    "    xmin = -2.0\n",
    "    xmax = 2.1\n",
    "    # Numpy arange to generate x\n",
    "    x = np.arange(xmin, xmax,0.1)\n",
    "    # List comprehension\n",
    "    y = [math.cos(i) for i in x]\n",
    "\n",
    "    # Plot exact solution\n",
    "    plt.plot(x, y)\n",
    "\n",
    "    # Create approximate solution of e^x\n",
    "    def approx_cosx(x, n):\n",
    "        cos_approx = 0\n",
    "        for i in range(n):\n",
    "            coef = (-1)**i\n",
    "            num = x**(2*i)\n",
    "            denom = math.factorial(2*i)\n",
    "            cos_approx += ( coef ) * ( (num)/(denom) )\n",
    "        return cos_approx\n",
    "\n",
    "    z = [approx_cosx(i, n) for i in x]\n",
    "\n",
    "    # Plot approximate solution\n",
    "    plt.plot(x, z, linewidth=2.0, color=\"orange\")\n",
    "    plt.rcParams['figure.figsize'] = [10, 10]\n",
    "    plt.xlabel(\"x\")\n",
    "    plt.ylabel(\"cos(x)\")\n",
    "    plt.show()\n",
    "    \n",
    "\n",
    "interactive_plot = widgets.interactive(taylor_cosx, n=widgets.IntSlider(min=1, max=5, step=1, value=1))\n",
    "interactive_plot\n"
   ]
  },
  {
   "cell_type": "markdown",
   "metadata": {},
   "source": [
    "## Newton Raphson"
   ]
  },
  {
   "cell_type": "code",
   "execution_count": null,
   "metadata": {},
   "outputs": [],
   "source": [
    "# The function is x^3 - x^2 + 2 \n",
    "  \n",
    "# Derivative of the above function  \n",
    "# which is 3*x^x - 2*x \n",
    "\n",
    "# Function to find the root \n",
    "          \n",
    "        \n",
    "# Initial values assumed \n",
    "# print(\"The root of fn: {}\".format(newton_raphson(x0)))"
   ]
  }
 ],
 "metadata": {
  "kernelspec": {
   "display_name": "Python 3",
   "language": "python",
   "name": "python3"
  },
  "language_info": {
   "codemirror_mode": {
    "name": "ipython",
    "version": 3
   },
   "file_extension": ".py",
   "mimetype": "text/x-python",
   "name": "python",
   "nbconvert_exporter": "python",
   "pygments_lexer": "ipython3",
   "version": "3.8.5"
  }
 },
 "nbformat": 4,
 "nbformat_minor": 2
}
