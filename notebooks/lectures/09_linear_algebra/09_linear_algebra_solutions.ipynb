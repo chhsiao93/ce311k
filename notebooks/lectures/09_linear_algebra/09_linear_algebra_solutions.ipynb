{
 "cells": [
  {
   "cell_type": "markdown",
   "metadata": {},
   "source": [
    "# Introduction\n",
    "\n",
    "We will be using NumPy (http://www.numpy.org/) and SciPy (https://www.scipy.org/) to solve system of linear equations\n",
    "\n",
    "\n",
    "## Objectives\n",
    "\n",
    "- Solving system of linear equations using Gauss Elimination"
   ]
  },
  {
   "cell_type": "code",
   "execution_count": 1,
   "metadata": {},
   "outputs": [],
   "source": [
    "import numpy as np"
   ]
  },
  {
   "cell_type": "markdown",
   "metadata": {},
   "source": [
    "## Solve a linear system of equations\n",
    "\n",
    "Consider a Matrix $A$, and vectors $x$ and $b$:\n",
    "\n",
    "$$ \n",
    "\\begin{bmatrix} \n",
    "2 & 4 & 6 \\\\\n",
    "4 & 11 & 21 \\\\\n",
    "6 & 21 & 52 \\\\\n",
    "\\end{bmatrix} \n",
    "\t\\begin{bmatrix}\n",
    "\t\tx_1\\\\\n",
    "\t\tx_2\\\\\n",
    "\t\tx_3\\\\\n",
    "\t\\end{bmatrix}\n",
    "\t\\begin{bmatrix}\n",
    "\t\t24 \\\\\n",
    "\t\t72 \\\\\n",
    "\t\t158 \\\\\n",
    "\t\\end{bmatrix}\n",
    "$$\n",
    "\n",
    "we use:"
   ]
  },
  {
   "cell_type": "code",
   "execution_count": 2,
   "metadata": {},
   "outputs": [],
   "source": [
    "A = np.array([[2,4,6], [4,11,21], [6, 21, 52]])\n",
    "b = np.array([24, 72, 158])"
   ]
  },
  {
   "cell_type": "markdown",
   "metadata": {},
   "source": [
    "Check the length of `A` and `b`"
   ]
  },
  {
   "cell_type": "code",
   "execution_count": 3,
   "metadata": {},
   "outputs": [
    {
     "name": "stdout",
     "output_type": "stream",
     "text": [
      "(3, 3)\n",
      "(3,)\n"
     ]
    }
   ],
   "source": [
    "print(A.shape)\n",
    "print(b.shape)"
   ]
  },
  {
   "cell_type": "markdown",
   "metadata": {},
   "source": [
    "The determinant ($\\det(A)$) can be computed using functions in the NumPy submodule `linalg`. If the determinant of $A$ is non-zero, then we have a solution."
   ]
  },
  {
   "cell_type": "code",
   "execution_count": 4,
   "metadata": {},
   "outputs": [
    {
     "name": "stdout",
     "output_type": "stream",
     "text": [
      "Determinant of A: 41.999999999999964\n"
     ]
    }
   ],
   "source": [
    "Adet = np.linalg.det(A)\n",
    "print(\"Determinant of A: {}\".format(Adet))"
   ]
  },
  {
   "cell_type": "markdown",
   "metadata": {},
   "source": [
    "Solve using the inverse of A"
   ]
  },
  {
   "cell_type": "code",
   "execution_count": 5,
   "metadata": {},
   "outputs": [
    {
     "name": "stdout",
     "output_type": "stream",
     "text": [
      "x = [2. 2. 2.]\n"
     ]
    }
   ],
   "source": [
    "Ainv = np.linalg.inv(A)\n",
    "x = Ainv.dot(b)\n",
    "print(\"x = {}\".format(x))"
   ]
  },
  {
   "cell_type": "markdown",
   "metadata": {},
   "source": [
    "Solution using Gauss Elimination"
   ]
  },
  {
   "cell_type": "code",
   "execution_count": 6,
   "metadata": {},
   "outputs": [
    {
     "name": "stdout",
     "output_type": "stream",
     "text": [
      "x = [2. 2. 2.]\n"
     ]
    }
   ],
   "source": [
    "A = np.array([[2,4,6], [4,11,21], [6, 21, 52]])\n",
    "\n",
    "b = np.array([24, 72, 158])\n",
    "\n",
    "x = np.linalg.solve(A, b)\n",
    "print(\"x = {}\".format(x))"
   ]
  },
  {
   "cell_type": "markdown",
   "metadata": {},
   "source": [
    "## Gauss-Seidel iterative approach"
   ]
  },
  {
   "cell_type": "code",
   "execution_count": 4,
   "metadata": {},
   "outputs": [
    {
     "name": "stdout",
     "output_type": "stream",
     "text": [
      "0 [ 9.08571429 27.14285714 56.42857143]\n",
      "1 [ 8.69795918 60.30612245 40.91836735]\n",
      "2 [ 8.22419825 16.37026239 21.96793003]\n",
      "3 [ 8.85185339 35.07913369 47.07413578]\n",
      "4 [ 8.5845838  44.14916404 36.38335217]\n",
      "5 [ 8.45501194 25.68406871 31.20047769]\n",
      "6 [ 8.71879902 36.3284188  41.75196074]\n",
      "7 [ 8.56673687 37.7561732  35.66947497]\n",
      "8 [ 8.54634038 30.44989795 34.85361532]\n",
      "9 [ 8.65071574 35.89655993 39.02862974]\n",
      "10 [ 8.57290629 35.40300695 35.91625147]\n",
      "11 [ 8.57995704 32.71367409 36.19828175]\n",
      "12 [ 8.61837608 35.30084681 37.73504338]\n",
      "13 [ 8.58141647 34.62003182 36.25665896]\n",
      "14 [ 8.5911424  33.72520311 36.6456961 ]\n",
      "15 [ 8.60392567 34.88123629 37.15702679]\n",
      "16 [ 8.58741091 34.4016814  36.49643641]\n",
      "17 [ 8.59426169 34.15213806 36.77046777]\n",
      "18 [ 8.5978266  34.64006372 36.91306396]\n",
      "19 [ 8.59085623 34.36443792 36.6342493 ]\n",
      "20 [ 8.59479374 34.32187394 36.79174976]\n",
      "21 [ 8.5954018  34.51585781 36.81607203]\n",
      "22 [ 8.5926306  34.3739082  36.70522411]\n",
      "23 [ 8.59465845 34.38473137 36.78633817]\n",
      "24 [ 8.59450384 34.45656843 36.7801535 ]\n",
      "25 [ 8.59347759 34.38880914 36.73910376]\n",
      "26 [ 8.59444558 34.40583878 36.77782335]\n",
      "27 [ 8.5942023  34.42996154 36.76809212]\n",
      "28 [ 8.59385769 34.39955366 36.75430769]\n",
      "29 [ 8.59429209 34.41183312 36.77168362]\n",
      "30 [ 8.59411667 34.4186838  36.76466679]\n",
      "31 [ 8.5940188  34.40579496 36.76075211]\n",
      "32 [ 8.59420293 34.41292786 36.76811717]\n",
      "33 [ 8.59410103 34.414179   36.76404122]\n",
      "34 [ 8.59408316 34.40903065 36.76332629]\n",
      "35 [ 8.5941567  34.41272859 36.7662682 ]\n",
      "36 [ 8.59410388 34.41250084 36.76415509]\n",
      "37 [ 8.59410713 34.41058295 36.76428523]\n",
      "38 [ 8.59413453 34.412357   36.76538117]\n",
      "39 [ 8.59410919 34.41193232 36.76436743]\n",
      "40 [ 8.59411525 34.41128258 36.7646101 ]\n",
      "41 [ 8.59412453 34.41208217 36.76498138]\n",
      "42 [ 8.59411311 34.41176809 36.76452447]\n",
      "43 [ 8.5941176  34.4115804  36.76470395]\n",
      "44 [ 8.59412028 34.41192075 36.7648112 ]\n",
      "45 [ 8.59411542 34.41173627 36.76461671]\n",
      "46 [ 8.59411805 34.41169991 36.76472213]\n",
      "47 [ 8.59411857 34.41183649 36.76474291]\n",
      "48 [ 8.59411662 34.4117402  36.76466486]\n",
      "49 [ 8.594118   34.41174469 36.76471989]\n",
      "50 [ 8.59411793 34.41179587 36.76471732]\n",
      "51 [ 8.5941172  34.41174943 36.76468808]\n",
      "52 [ 8.59411787 34.41175999 36.76471461]\n",
      "53 [ 8.59411771 34.41177748 36.76470858]\n",
      "54 [ 8.59411746 34.41175646 36.76469859]\n",
      "55 [ 8.59411776 34.41176448 36.7647106 ]\n",
      "Gauss-Seidel iterations 56,\n",
      "x: [ 8.59411765 34.41176961 36.76470601],\n",
      "error: [ 5.13283931e-06 -4.58532031e-06  0.00000000e+00]\n"
     ]
    }
   ],
   "source": [
    "import numpy as np\n",
    "def seidel(A, b, max_iter = 1000):    \n",
    "    x = np.zeros(b.shape[0])\n",
    "    for iter in range(max_iter): \n",
    "        # Loop through each row\n",
    "        for i in range(A.shape[0]):         \n",
    "            # temp variable d to store b[j] \n",
    "            d = b[i]\n",
    "            # Iterate through the columns\n",
    "            for j in range(A.shape[1]):      \n",
    "                if(i != j): \n",
    "                    d-=A[i][j] * x[j] \n",
    "            # updating the value of our solution         \n",
    "            x[i] = d / A[i][i] \n",
    "        \n",
    "        if np.allclose(np.dot(A, x), b, rtol=1e-8):\n",
    "            break\n",
    "        print(iter, x)\n",
    "    else: # no break\n",
    "        raise RuntimeError(\"Insufficient number of iterations\")\n",
    "        \n",
    "    error = np.dot(A, x) - b\n",
    "    # returning our updated solution            \n",
    "    return x, error, iter\n",
    "\n",
    "\n",
    "A = np.array([[2,4,6], [4,11,21], [6, 21, 52]])\n",
    "\n",
    "b = np.array([24, 72, 158])\n",
    "\n",
    "A = np.array([[70, 1, 0], [60, -1, 1], [40, 0, -1]])\n",
    "b = np.array([636, 518, 307])\n",
    "x, error, iter = seidel(A, b)\n",
    "print(\"Gauss-Seidel iterations {},\\nx: {},\\nerror: {}\".format(iter, x, error))"
   ]
  },
  {
   "cell_type": "markdown",
   "metadata": {},
   "source": [
    "## Truss analysis"
   ]
  },
  {
   "cell_type": "code",
   "execution_count": 8,
   "metadata": {},
   "outputs": [
    {
     "name": "stdout",
     "output_type": "stream",
     "text": [
      "[ 40.58274196   0.          48.51398804  70.29137098 -81.16548391\n",
      "  34.30456993  46.86091399  84.02869217 -68.60913985 -93.72182797]\n"
     ]
    }
   ],
   "source": [
    "import math\n",
    "\n",
    "A = np.zeros((10, 10))\n",
    "\n",
    "# Angles\n",
    "alpha = math.pi/6\n",
    "beta = math.pi/3\n",
    "gamma = math.pi/4\n",
    "delta = math.pi/3\n",
    "\n",
    "A[0,0] = 1\n",
    "A[0,4] = np.sin(alpha)\n",
    "\n",
    "A[1,1] = 1 \n",
    "A[1,3] = 1 \n",
    "A[1,4] = np.cos(alpha)\n",
    "\n",
    "A[2,6] = np.sin(beta) \n",
    "A[2,7] = np.sin(gamma)\n",
    "\n",
    "A[3,3] = -1 \n",
    "A[3,5] = 1 \n",
    "A[3,6] = -np.cos(beta) \n",
    "A[3,7] = np.cos(gamma)\n",
    "\n",
    "A[4,2] = 1 \n",
    "A[4,8] = np.sin(gamma)\n",
    "\n",
    "A[5,5] = -1 \n",
    "A[5,8] = -np.cos(delta)\n",
    "\n",
    "A[6,4] = -np.sin(alpha) \n",
    "A[6,6] = -np.sin(beta)\n",
    "\n",
    "A[7,4] = -np.cos(alpha) \n",
    "A[7,6] = np.cos(beta) \n",
    "A[7,9] = 1\n",
    "\n",
    "A[8,7] = -np.sin(gamma) \n",
    "A[8,8] = -np.sin(delta)\n",
    "\n",
    "A[9,7] = -np.cos(gamma) \n",
    "A[9,8] = np.cos(delta) \n",
    "A[9,9] = -1\n",
    "\n",
    "\n",
    "# Force\n",
    "b = np.zeros(10)\n",
    "b[2] = 100\n",
    "\n",
    "x = np.linalg.solve(A, b)\n",
    "print(x)"
   ]
  },
  {
   "cell_type": "code",
   "execution_count": null,
   "metadata": {},
   "outputs": [],
   "source": []
  }
 ],
 "metadata": {
  "kernelspec": {
   "display_name": "Python 3",
   "language": "python",
   "name": "python3"
  },
  "language_info": {
   "codemirror_mode": {
    "name": "ipython",
    "version": 3
   },
   "file_extension": ".py",
   "mimetype": "text/x-python",
   "name": "python",
   "nbconvert_exporter": "python",
   "pygments_lexer": "ipython3",
   "version": "3.9.0"
  }
 },
 "nbformat": 4,
 "nbformat_minor": 1
}
