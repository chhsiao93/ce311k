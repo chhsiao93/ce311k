{
 "cells": [
  {
   "cell_type": "markdown",
   "metadata": {},
   "source": [
    "# Lab 00: Variables, assignments, and operator precedence\n",
    "\n",
    "> Hint: use [https://docs.python.org/3.7/library/math.html](https://docs.python.org/3.7/library/math.html) to find the nec math functions"
   ]
  },
  {
   "cell_type": "markdown",
   "metadata": {},
   "source": [
    "## Exercise 00\n",
    "\n",
    "Use the variable `v0` to evaluate the following function: \n",
    "$$\n",
    "v0 = \\frac{(14.8^2 + 6.5^2)}{3.8^2} + \\frac{55}{\\sqrt{2} + 14}\n",
    "$$"
   ]
  },
  {
   "cell_type": "code",
   "execution_count": null,
   "metadata": {},
   "outputs": [],
   "source": []
  },
  {
   "cell_type": "code",
   "execution_count": null,
   "metadata": {
    "deletable": false,
    "editable": false
   },
   "outputs": [],
   "source": [
    "assert round(v0 - 21.6630, 4) == 0.0"
   ]
  },
  {
   "cell_type": "markdown",
   "metadata": {
    "deletable": false,
    "nbgrader": {
     "checksum": "c26b7adb39cb9665b26873573b1f0a6c",
     "grade": false,
     "grade_id": "cell-aaab53918bb9627d",
     "locked": false,
     "schema_version": 1,
     "solution": true
    }
   },
   "source": [
    "## Exercise 01\n",
    "\n",
    "Use the variable `v1` to evaluate the following function: \n",
    "\n",
    "$$\n",
    "v1 = 2.34 + \\frac{1}{2} 2.7(5.9^2 - 2.4^2) + 9.8 \\ln(51)\n",
    "$$"
   ]
  },
  {
   "cell_type": "markdown",
   "metadata": {},
   "source": [
    "> Hint: Use `import math` function for log and trignometric functions"
   ]
  },
  {
   "cell_type": "code",
   "execution_count": null,
   "metadata": {},
   "outputs": [],
   "source": []
  },
  {
   "cell_type": "code",
   "execution_count": null,
   "metadata": {
    "deletable": false,
    "editable": false
   },
   "outputs": [],
   "source": [
    "assert round(v1 - 80.0894, 4) == 0.0"
   ]
  },
  {
   "cell_type": "markdown",
   "metadata": {},
   "source": [
    "## Exercise 02\n",
    "\n",
    "Use the variable `v0` to evaluate the following function: \n",
    "\n",
    "$$\n",
    "v2 = \\frac{\\tan 64^o}{\\cos^2 14^o} - \\frac{3 * \\sin 80^o}{\\sqrt[3]{0.9}} + \\frac{\\cos{55^o}}{\\sin 11^o}\n",
    "$$"
   ]
  },
  {
   "cell_type": "code",
   "execution_count": null,
   "metadata": {},
   "outputs": [],
   "source": []
  },
  {
   "cell_type": "code",
   "execution_count": null,
   "metadata": {
    "deletable": false,
    "editable": false
   },
   "outputs": [],
   "source": [
    "assert round(v2 - 2.1238, 4) == 0.0"
   ]
  },
  {
   "cell_type": "markdown",
   "metadata": {},
   "source": [
    "## Exercise 03\n",
    "\n",
    "Define the variable `x` as `2.34`, then evaluate `v3` as:\n",
    "\n",
    "$$\n",
    "v3 = \\frac{e^{2x}}{\\sqrt{14 + x^2 - x}}\n",
    "$$"
   ]
  },
  {
   "cell_type": "code",
   "execution_count": null,
   "metadata": {},
   "outputs": [],
   "source": []
  },
  {
   "cell_type": "code",
   "execution_count": null,
   "metadata": {
    "scrolled": true
   },
   "outputs": [],
   "source": [
    "assert round(v3 - 26.0345, 4) == 0.0"
   ]
  },
  {
   "cell_type": "markdown",
   "metadata": {},
   "source": [
    "## Exercise 04\n",
    "\n",
    "Define the variables `a`, `b`, `c`, and `d` as: `a = 13`, `b=4.2`,\n",
    "$c = 4b/a$, $d = (abc)/(a + b + c)$. Then evaluate `v4` as:\n",
    "\n",
    "$$\n",
    "v4 = \\frac{\\sqrt{a^2 + b^2}}{(d - c)} + \\ln(\\left|b - a + c -d\\right|)\n",
    "$$"
   ]
  },
  {
   "cell_type": "code",
   "execution_count": null,
   "metadata": {},
   "outputs": [],
   "source": []
  },
  {
   "cell_type": "code",
   "execution_count": null,
   "metadata": {
    "deletable": false,
    "editable": false
   },
   "outputs": [],
   "source": [
    "assert round(v4 - 7.8410, 4) == 0.0"
   ]
  },
  {
   "cell_type": "markdown",
   "metadata": {},
   "source": [
    "## Exercise 05\n",
    "\n",
    "Measure the arc length of the cable of the parabolic segment BOC supporting the Golden Gate Bridge. \n",
    "\n",
    "The arc legnth `s` of a parabolic segment BOC is given as:\n",
    "\n",
    "![golden gate bridge](https://raw.githubusercontent.com/kks32-courses/ce311k/master/notebooks/lab/00_variables/golden-gate-bridge.png)\n",
    "    \n",
    "$$\n",
    "s = \\frac{1}{2}\\sqrt{b^2 + 16 a^2} + \\frac{b^2}{8a}\\ln\\left(\\frac{4a + \\sqrt{b^2 + 16 a^2}}{b}\\right)\n",
    "$$\n",
    "\n",
    "Given $a = 40 m$ and $b = 2000 m$"
   ]
  },
  {
   "cell_type": "code",
   "execution_count": null,
   "metadata": {},
   "outputs": [],
   "source": []
  },
  {
   "cell_type": "code",
   "execution_count": null,
   "metadata": {
    "deletable": false,
    "editable": false
   },
   "outputs": [],
   "source": [
    "assert round(s - 2002.13129, 5) == 0.0"
   ]
  },
  {
   "cell_type": "markdown",
   "metadata": {},
   "source": [
    "## Exercise 06\n",
    "\n",
    "Degrees Fahrenheit ($T_F$) are converted to degrees Celsius ($T_c$) using the formula:\n",
    "\n",
    "$$\n",
    "T_c = 5(T_f - 32)/9\n",
    "$$\n",
    "\n",
    "Write a program to convert 78 degrees Fahrenheit to degrees Celsius and print the result.\n",
    "Write your program such that you can easily change the temperature in Fahrenheit that you are converting from.\n",
    "\n",
    "Use the variable name `T_c` for the temperature in degrees Celsius."
   ]
  },
  {
   "cell_type": "code",
   "execution_count": null,
   "metadata": {
    "deletable": false,
    "nbgrader": {
     "checksum": "9aad06999d15d78fbcee70dcbca838c7",
     "grade": false,
     "grade_id": "cell-ca2d6af7fabf2918",
     "locked": false,
     "schema_version": 1,
     "solution": true
    }
   },
   "outputs": [],
   "source": []
  },
  {
   "cell_type": "code",
   "execution_count": null,
   "metadata": {
    "deletable": false,
    "editable": false
   },
   "outputs": [],
   "source": [
    "assert round(T_c - 25.55555555555555, 10) == 0.0"
   ]
  }
 ],
 "metadata": {
  "kernelspec": {
   "display_name": "Python 3",
   "language": "python",
   "name": "python3"
  },
  "language_info": {
   "codemirror_mode": {
    "name": "ipython",
    "version": 3
   },
   "file_extension": ".py",
   "mimetype": "text/x-python",
   "name": "python",
   "nbconvert_exporter": "python",
   "pygments_lexer": "ipython3",
   "version": "3.8.5"
  }
 },
 "nbformat": 4,
 "nbformat_minor": 2
}
