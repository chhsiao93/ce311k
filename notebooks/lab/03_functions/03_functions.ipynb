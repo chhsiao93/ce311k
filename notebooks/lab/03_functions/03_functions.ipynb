{
 "cells": [
  {
   "cell_type": "markdown",
   "metadata": {},
   "source": [
    "## Exercise 03 functions\n",
    "\n",
    "The objective of the lab is to familiarize with writing and calling custom functions in Python\n",
    "\n",
    "### 03.0 interger multiple\n",
    "\n",
    "Write a function called `multiple` to determine whether an integer `b` is a multiple of `a`. Your function should return `True` if `b` is a multiple of a, and `False` otherwise. "
   ]
  },
  {
   "cell_type": "code",
   "execution_count": null,
   "metadata": {
    "deletable": false
   },
   "outputs": [],
   "source": [
    "# b is a multiple of a\n"
   ]
  },
  {
   "cell_type": "code",
   "execution_count": null,
   "metadata": {
    "deletable": false,
    "editable": false,
    "nbgrader": {
     "checksum": "300a5759e0f5b564a00fa0e9acee6f68",
     "grade": true,
     "grade_id": "cell-421824bbd4e61fae",
     "locked": true,
     "points": 0,
     "schema_version": 1,
     "solution": false
    }
   },
   "outputs": [],
   "source": [
    "assert multiple(15, 5) == True\n",
    "assert multiple(17, 7) == False"
   ]
  },
  {
   "cell_type": "markdown",
   "metadata": {},
   "source": [
    "### 03.1 Max of 3 numbers\n",
    "\n",
    "Write a function called `max3` that takes 3 numbers, and returns the maximum of the 3.\n"
   ]
  },
  {
   "cell_type": "code",
   "execution_count": null,
   "metadata": {},
   "outputs": [],
   "source": [
    "# Write a function `max3` that returns maximum of 3 numbers\n"
   ]
  },
  {
   "cell_type": "code",
   "execution_count": null,
   "metadata": {
    "deletable": false,
    "editable": false
   },
   "outputs": [],
   "source": [
    "assert max3(-5.3, 2.5, 7.3) == 7.3"
   ]
  },
  {
   "cell_type": "markdown",
   "metadata": {},
   "source": [
    "### 03.2 Stats from a list of numbers\n",
    "\n",
    "Write a function called `stats` that takes a list as an argument and return the `max`, `min`, `mean`, and `sum` of the list. Please write custom code to compute the value of sum and mean rather than using the default functions for a Python list. You may use `len` to find the length of a list."
   ]
  },
  {
   "cell_type": "code",
   "execution_count": null,
   "metadata": {},
   "outputs": [],
   "source": [
    "# Stats of list\n"
   ]
  },
  {
   "cell_type": "code",
   "execution_count": null,
   "metadata": {
    "deletable": false,
    "editable": false
   },
   "outputs": [],
   "source": [
    "# Check results of stats\n",
    "numbers = [7, 5, 2, -3, 11, 17]\n",
    "\n",
    "max, min, mean, sum = stats(numbers)\n",
    "assert max == 17\n",
    "assert min == -3\n",
    "assert round(mean, 1) == 6.5\n",
    "assert sum == 39"
   ]
  },
  {
   "cell_type": "markdown",
   "metadata": {},
   "source": [
    "### 03.3 State of stress\n",
    "\n",
    "The state of stress at an interior point in a solid is defined by three stress components $\\sigma_{xx}$, $\\sigma_{yy}$, and $\\sigma_{xy}$. Given the three components, the principal stresses (maximum and minimum normal stresses) $\\sigma_1$ and $\\sigma_2$ can be computed from:\n",
    "\n",
    "$$ \\sigma_1 = \\frac{\\sigma_{xx} + \\sigma_{yy}}{2} + \\sqrt{\\left(\\frac{\\sigma_{xx} - \\sigma_{yy}}{2}\\right)^2 + \\sigma_{xy}^2}$$\n",
    "\n",
    "$$ \\sigma_2 = \\frac{\\sigma_{xx} + \\sigma_{yy}}{2} - \\sqrt{\\left(\\frac{\\sigma_{xx} - \\sigma_{yy}}{2}\\right)^2 + \\sigma_{xy}^2}$$\n",
    "\n",
    "Write a function called `principal_stresses` that takes the 3 stress components as the arguments and returns `sigma_1` and `sigma_2` as the maximum and minimum principal stresses."
   ]
  },
  {
   "cell_type": "code",
   "execution_count": null,
   "metadata": {},
   "outputs": [],
   "source": [
    "# State of stress\n"
   ]
  },
  {
   "cell_type": "code",
   "execution_count": null,
   "metadata": {
    "deletable": false,
    "editable": false
   },
   "outputs": [],
   "source": [
    "# Check state of stress\n",
    "sigma_xx = 50\n",
    "sigma_yy = -20\n",
    "sigma_xy = 30\n",
    "sigma_1, sigma_2 = principal_stresses(sigma_xx, sigma_yy, sigma_xy)\n",
    "assert round(sigma_1, 1) == 61.1\n",
    "assert round(sigma_2, 1) == -31.1"
   ]
  },
  {
   "cell_type": "markdown",
   "metadata": {},
   "source": [
    "### 03.4 Function as an argument\n",
    "\n",
    "Write a function `is_fn_positive` that takes another function as an argument and a range and an increment, to check if a given function is always positive in the given range."
   ]
  },
  {
   "cell_type": "code",
   "execution_count": null,
   "metadata": {},
   "outputs": [],
   "source": [
    "# Define is_fn_positive(fn, min, max)\n"
   ]
  },
  {
   "cell_type": "code",
   "execution_count": null,
   "metadata": {
    "deletable": false,
    "editable": false
   },
   "outputs": [],
   "source": [
    "import numpy as np\n",
    "assert is_fn_positive(np.sin, -1, 1) == False\n",
    "assert is_fn_positive(np.sin, 0.1, 1) == True\n",
    "assert is_fn_positive(np.cos, -1, 1) == True"
   ]
  }
 ],
 "metadata": {
  "kernelspec": {
   "display_name": "Python 3",
   "language": "python",
   "name": "python3"
  },
  "language_info": {
   "codemirror_mode": {
    "name": "ipython",
    "version": 3
   },
   "file_extension": ".py",
   "mimetype": "text/x-python",
   "name": "python",
   "nbconvert_exporter": "python",
   "pygments_lexer": "ipython3",
   "version": "3.8.5"
  }
 },
 "nbformat": 4,
 "nbformat_minor": 1
}
