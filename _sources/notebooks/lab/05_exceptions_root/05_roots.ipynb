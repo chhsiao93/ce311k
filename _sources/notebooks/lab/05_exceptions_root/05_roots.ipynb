{
 "cells": [
  {
   "cell_type": "markdown",
   "metadata": {
    "deletable": false,
    "editable": false,
    "id": "7hy4Cab5MDTg"
   },
   "source": [
    "## Exercise 05 Error checking\n",
    "\n",
    "### Exercise 05.0 (checking data validity)\n",
    "\n",
    "The Fibonacci series is valid only for $n \\ge 0$. Add to the Fibonacci function in this notebook a check that raises an exception if $n < 0$. Try some invalid data cases to check that an exception is raised.\n",
    "\n",
    "*Optional:* Use `pytest` to test that an exception *is* raised for some $n < 0$ cases.\n"
   ]
  },
  {
   "cell_type": "code",
   "execution_count": null,
   "metadata": {
    "tags": [
     "otter_answer_cell"
    ]
   },
   "outputs": [],
   "source": [
    "# Your function should be able to \"raise\" error messages when the input is invalid.\n",
    "# \"raise\" ValueError messages, not \"print\"\n",
    "# \"raise\" ValueError messages, not \"print\"\n",
    "# \"raise\" ValueError messages, not \"print\"\n",
    "def fibonacci(n):\n",
    "    ..."
   ]
  },
  {
   "cell_type": "code",
   "execution_count": null,
   "metadata": {
    "deletable": false,
    "editable": false,
    "otter": {
     "tests": [
      "q1"
     ]
    }
   },
   "outputs": [],
   "source": [
    "# Perform some tests    \n",
    "assert fibonacci(0) == 0\n",
    "assert fibonacci(1) == 1\n",
    "assert fibonacci(2) == 1\n",
    "assert fibonacci(3) == 2\n",
    "assert fibonacci(10) == 55\n",
    "assert fibonacci(15) == 610\n",
    "\n",
    "# Check that ValueError is raised for n < 0\n",
    "import pytest\n",
    "with pytest.raises(ValueError):\n",
    "    fibonacci(-1)\n",
    "# Check that ValueError is raised for n is not an integer\n",
    "with pytest.raises(ValueError):\n",
    "    fibonacci(2.5)"
   ]
  },
  {
   "cell_type": "markdown",
   "metadata": {
    "deletable": false,
    "editable": false,
    "id": "CsUa5hpSMDUB"
   },
   "source": [
    "## Exercise 05.1 (raising exceptions)\n",
    "\n",
    "Write root finding functions using (bisection method, Newton Raphson and fixed point iteration) to raise an error if the maximum number of iterations is exceeded. Reduce the maximum allowed iterations to test that an exception is raised.\n",
    "\n",
    "Add any other checks on the input data that you think are appropriate.\n",
    "\n",
    "Compute the roots of the following Polynomial function $ x^3 - 6x^2 + 4x + 12$  using:\n",
    "* Bisection method\n",
    "* Newton Raphson iterations\n"
   ]
  },
  {
   "cell_type": "markdown",
   "metadata": {
    "deletable": false,
    "editable": false
   },
   "source": [
    "*HINT* <br>\n",
    "raise ValueError for invalid initial guess(x0,x1) of bisection method<br>\n",
    "raise RuntimeError for max iteration exceeded"
   ]
  },
  {
   "cell_type": "code",
   "execution_count": null,
   "metadata": {
    "tags": [
     "otter_answer_cell"
    ]
   },
   "outputs": [],
   "source": [
    "def fn(x):\n",
    "    ...\n",
    "\n",
    "# biscection\n",
    "def bisection(f, x0, x1, tol, max_it):\n",
    "    ...\n",
    "\n",
    "# Newton-Raphson\n",
    "def dfn(x):\n",
    "    ...\n",
    "\n",
    "def newton_raphson(f, df, x0, tol, max_it):\n",
    "    ...\n",
    "\n",
    "    \n",
    "bisection(fn,4, 6,1e-6,100)"
   ]
  },
  {
   "cell_type": "code",
   "execution_count": null,
   "metadata": {
    "deletable": false,
    "editable": false
   },
   "outputs": [],
   "source": [
    "# bisection\n",
    "# Test with max_it = 30\n",
    "x, error, num_it = bisection(fn, x0=3, x1=6, tol=1.0e-6, max_it=30)\n",
    "assert round(x-4.5340702, 5) == 0\n",
    "assert num_it > 20"
   ]
  },
  {
   "cell_type": "code",
   "execution_count": null,
   "metadata": {
    "deletable": false,
    "editable": false
   },
   "outputs": [],
   "source": [
    "# Test with max_it = 20\n",
    "with pytest.raises(RuntimeError):\n",
    "    x, error, num_it = bisection(fn, x0=3, x1=6, tol=1.0e-6, max_it=20)"
   ]
  },
  {
   "cell_type": "code",
   "execution_count": null,
   "metadata": {
    "deletable": false,
    "editable": false
   },
   "outputs": [],
   "source": [
    "# Newton-Raphson\n",
    "# Test with max_it = 30\n",
    "x, error, num_it = newton_raphson(fn, dfn, x0=3, tol=1.0e-6, max_it=30)\n",
    "assert round(x-2.51730405, 5) == 0\n",
    "assert num_it > 4"
   ]
  },
  {
   "cell_type": "code",
   "execution_count": null,
   "metadata": {
    "deletable": false,
    "editable": false,
    "otter": {
     "tests": [
      "q2"
     ]
    }
   },
   "outputs": [],
   "source": [
    "# Test with max_it to fail\n",
    "with pytest.raises(RuntimeError):\n",
    "    x, error, num_it = newton_raphson(fn, dfn, x0=3, tol=1.0e-6, max_it=3)"
   ]
  },
  {
   "cell_type": "markdown",
   "metadata": {
    "deletable": false,
    "editable": false,
    "id": "X1Eeyy44MDUd"
   },
   "source": [
    "### Fixed-point iteration\n",
    "\n",
    "Usually a formula for finding the root of an equation can be found by rearranging $f(x) = 0$ to be: $x = g(x)$ and then using the computation formula: $$ x_{i+1} = g(x_i)$$ to solve for succesively more accurate approximations of the root. \n",
    "\n",
    "Consider: $f(x) = x^2 - 4\\sin(x) =0 $ can be rearranged as $x = g(x) = 4\\frac{\\sin(x)}{x}$. So the computational formula is $$ x_{i+1} = g(x_i) = 4\\frac{\\sin(x_i)}{x_i}$$\n",
    "\n",
    "We could solve the equations for $x$ stating at an initial guess of $x = x_0$. The relative approximation error is computed as:\n",
    "\n",
    "$\\eta = \\left|\\frac{x_{i+1} - x_i}{x_{i+1}}\\right| < \\varepsilon$.\n",
    "\n",
    "Compute one of the roots of function $ x^3 - 6x^2 + 4x + 12$ using Fixed-point iteration approach\n"
   ]
  },
  {
   "cell_type": "code",
   "execution_count": null,
   "metadata": {
    "tags": [
     "otter_answer_cell"
    ]
   },
   "outputs": [],
   "source": [
    "def fixed_point(f, x0, tol, max_it):\n",
    "    ...\n",
    "# find 1 of 3 roots with fixed point method\n",
    "# you may try different x0 and max iterations to find the root\n",
    "x, error, num_it = fixed_point(fn, x0=..., tol=1.0e-6, max_it=...)\n",
    "root = ... # store the root in this variable"
   ]
  },
  {
   "cell_type": "code",
   "execution_count": null,
   "metadata": {
    "deletable": false,
    "editable": false
   },
   "outputs": [],
   "source": [
    "import numpy as np\n",
    "assert ((np.roots([1,-6,4,12])-root).round(4)==0).any()"
   ]
  },
  {
   "cell_type": "code",
   "execution_count": null,
   "metadata": {
    "deletable": false,
    "editable": false,
    "otter": {
     "tests": [
      "q3"
     ]
    }
   },
   "outputs": [],
   "source": [
    "# Test with max_it to fail\n",
    "with pytest.raises(RuntimeError):\n",
    "    x, error, num_it = fixed_point(fn, x0=3, tol=1.0e-6, max_it=2)"
   ]
  }
 ],
 "metadata": {
  "IMAGE_NAME": "taccsciapps/ds-nb-img:base-0.1.0",
  "UUID": "12ced790-5d3d-11ed-8e23-de68c61c1d2c",
  "kernelspec": {
   "display_name": "Python 3 (ipykernel)",
   "language": "python",
   "name": "python3"
  },
  "language_info": {
   "codemirror_mode": {
    "name": "ipython",
    "version": 3
   },
   "file_extension": ".py",
   "mimetype": "text/x-python",
   "name": "python",
   "nbconvert_exporter": "python",
   "pygments_lexer": "ipython3",
   "version": "3.9.10"
  },
  "otter": {
   "OK_FORMAT": true,
   "tests": {
    "q1": {
     "name": "q1",
     "points": 3.0,
     "suites": [
      {
       "cases": [
        {
         "code": ">>> assert fibonacci(0) == 0\n>>> assert fibonacci(1) == 1\n>>> assert fibonacci(2) == 1\n>>> assert fibonacci(3) == 2\n>>> assert fibonacci(10) == 55\n>>> assert fibonacci(15) == 610\n>>> import pytest\n>>> with pytest.raises(ValueError):\n...     fibonacci(-1)\n>>> with pytest.raises(ValueError):\n...     fibonacci(2.5)\n",
         "hidden": false,
         "locked": false
        }
       ],
       "scored": true,
       "setup": "",
       "teardown": "",
       "type": "doctest"
      }
     ]
    },
    "q2": {
     "name": "q2",
     "points": 4.0,
     "suites": [
      {
       "cases": [
        {
         "code": ">>> (x, error, num_it) = bisection(fn, x0=3, x1=6, tol=1e-06, max_it=30)\n>>> assert round(x - 4.5340702, 5) == 0\n>>> assert num_it > 20\n",
         "hidden": false,
         "locked": false
        },
        {
         "code": ">>> with pytest.raises(RuntimeError):\n...     (x, error, num_it) = bisection(fn, x0=3, x1=6, tol=1e-06, max_it=20)\n",
         "hidden": false,
         "locked": false
        },
        {
         "code": ">>> (x, error, num_it) = newton_raphson(fn, dfn, x0=3, tol=1e-06, max_it=30)\n>>> assert round(x - 2.51730405, 5) == 0\n>>> assert num_it > 4\n",
         "hidden": false,
         "locked": false
        },
        {
         "code": ">>> with pytest.raises(RuntimeError):\n...     (x, error, num_it) = newton_raphson(fn, dfn, x0=3, tol=1e-06, max_it=3)\n",
         "hidden": false,
         "locked": false
        }
       ],
       "scored": true,
       "setup": "",
       "teardown": "",
       "type": "doctest"
      }
     ]
    },
    "q3": {
     "name": "q3",
     "points": 4.0,
     "suites": [
      {
       "cases": [
        {
         "code": ">>> import numpy as np\n>>> assert ((np.roots([1, -6, 4, 12]) - root).round(4) == 0).any()\n",
         "hidden": false,
         "locked": false
        },
        {
         "code": ">>> with pytest.raises(RuntimeError):\n...     (x, error, num_it) = fixed_point(fn, x0=3, tol=1e-06, max_it=2)\n",
         "hidden": false,
         "locked": false
        }
       ],
       "scored": true,
       "setup": "",
       "teardown": "",
       "type": "doctest"
      }
     ]
    }
   }
  },
  "varInspector": {
   "cols": {
    "lenName": 16,
    "lenType": 16,
    "lenVar": 40
   },
   "kernels_config": {
    "python": {
     "delete_cmd_postfix": "",
     "delete_cmd_prefix": "del ",
     "library": "var_list.py",
     "varRefreshCmd": "print(var_dic_list())"
    },
    "r": {
     "delete_cmd_postfix": ") ",
     "delete_cmd_prefix": "rm(",
     "library": "var_list.r",
     "varRefreshCmd": "cat(var_dic_list()) "
    }
   },
   "types_to_exclude": [
    "module",
    "function",
    "builtin_function_or_method",
    "instance",
    "_Feature"
   ],
   "window_display": false
  }
 },
 "nbformat": 4,
 "nbformat_minor": 4
}
